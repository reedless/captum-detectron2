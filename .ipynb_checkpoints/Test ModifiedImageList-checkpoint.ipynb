{
 "cells": [
  {
   "cell_type": "code",
   "execution_count": 1,
   "id": "53257beb",
   "metadata": {},
   "outputs": [
    {
     "name": "stdout",
     "output_type": "stream",
     "text": [
      "<class 'torch.Tensor'>\n",
      "Inside ModifiedImageList.from_tensors\n",
      "2\n",
      "[2, 3, tensor(480), tensor(640)] 0.0\n",
      "torch.Size([3, 480, 640])\n",
      "torch.Size([2, 3, 480, 640])\n",
      "PREDICTIONS: [torch.Size([2000, 81]), torch.Size([2000, 320])]\n"
     ]
    }
   ],
   "source": [
    "import cv2\n",
    "import torch\n",
    "from captum.attr import (DeepLift, DeepLiftShap, GradientShap,\n",
    "                         IntegratedGradients, LayerConductance,\n",
    "                         NeuronConductance, NoiseTunnel, LayerGradientXActivation)\n",
    "from detectron2 import model_zoo\n",
    "from detectron2.checkpoint import DetectionCheckpointer\n",
    "from detectron2.config import get_cfg\n",
    "from detectron2.modeling import build_model\n",
    "\n",
    "# from modified_rcnn import ModifiedGeneralizedRCNN\n",
    "from modified_fast_rcnn_output_layers import ModifiedFastRCNNOutputLayers\n",
    "from modified_image_list import ModifiedImageList\n",
    "from types import MethodType\n",
    "\n",
    "img = cv2.imread('000000000001.jpg')\n",
    "device = torch.device(\"cuda\")\n",
    "\n",
    "# build and load faster rcnn model\n",
    "cfg = get_cfg()\n",
    "cfg.merge_from_file(model_zoo.get_config_file(\"COCO-Detection/faster_rcnn_R_50_FPN_3x.yaml\"))\n",
    "cfg.MODEL.ROI_HEADS.SCORE_THRESH_TEST = 0.5\n",
    "cfg.MODEL.WEIGHTS = model_zoo.get_checkpoint_url(\"COCO-Detection/faster_rcnn_R_50_FPN_3x.yaml\")\n",
    "\n",
    "model = build_model(cfg).to(device).eval()\n",
    "model.roi_heads.box_predictor = ModifiedFastRCNNOutputLayers(model.roi_heads.box_predictor)\n",
    "\n",
    "def new_preprocess_image(self, batched_inputs: torch.Tensor):\n",
    "      \"\"\"\n",
    "      Normalize, pad and batch the input images.\n",
    "      \"\"\"\n",
    "      print(type(batched_inputs))\n",
    "      images = [x.to(self.device) for x in batched_inputs]\n",
    "      images = [(x - self.pixel_mean) / self.pixel_std for x in images]\n",
    "      images = ModifiedImageList.from_tensors(images, self.backbone.size_divisibility) # Extend ImageList to new object\n",
    "      return images\n",
    "\n",
    "def _new_postprocess(instances, batched_inputs: torch.Tensor, image_sizes):\n",
    "        \"\"\"\n",
    "        Rescale the output instances to the target size.\n",
    "        \"\"\"\n",
    "        # note: private function; subject to changes\n",
    "        processed_results = []\n",
    "        print(type(batched_inputs))\n",
    "        for results_per_image, input_per_image, image_size in zip(\n",
    "            instances, batched_inputs, image_sizes\n",
    "        ):\n",
    "            height = image_size[0]\n",
    "            width = image_size[1]\n",
    "            from detectron2.modeling.postprocessing import detector_postprocess\n",
    "            r = detector_postprocess(results_per_image, height, width)\n",
    "            processed_results.append({\"instances\": r})\n",
    "        return processed_results\n",
    "    \n",
    "model.preprocess_image = MethodType(new_preprocess_image, model)\n",
    "model.__class__._postprocess = _new_postprocess\n",
    "model.roi_heads.forward_with_given_boxes = MethodType(lambda self, x, y: y, model)\n",
    "\n",
    "modified = model\n",
    "\n",
    "DetectionCheckpointer(modified).load(cfg.MODEL.WEIGHTS)\n",
    "modified.to(device)\n",
    "\n",
    "# define input and baseline\n",
    "input_   = torch.from_numpy(img).permute(2,0,1).to(device)\n",
    "input_   = torch.stack([input_, input_]) # [2, 3, H, W]\n",
    "baseline = torch.zeros(input_.shape).to(device)\n",
    "baseline_dist = torch.randn(5, 3, 480, 640).to(device) * 0.001\n",
    "\n",
    "modified.roi_heads.box_predictor.class_scores_only = True\n",
    "outputs = modified.inference(input_, do_postprocess = False)"
   ]
  },
  {
   "cell_type": "code",
   "execution_count": 2,
   "id": "10cf48d0",
   "metadata": {},
   "outputs": [
    {
     "data": {
      "text/plain": [
       "tensor([[2.0602e-05, 7.7820e-06, 1.7247e+00, 2.3876e-05, 1.1636e-05, 6.1807e-04,\n",
       "         5.7153e-05, 1.0312e+00, 8.1349e-05, 6.5970e-05, 2.1995e-06, 1.9053e-05,\n",
       "         9.7847e-01, 3.1735e-05, 8.6988e-07, 5.1343e-07, 1.2946e-06, 7.2711e-06,\n",
       "         3.3631e-06, 1.4810e-05, 1.0711e-05, 3.5918e-06, 3.0762e-06, 7.7639e-07,\n",
       "         1.2731e-05, 8.8409e-05, 7.5949e-06, 6.7203e-07, 1.1000e-05, 8.6329e-07,\n",
       "         1.0507e-06, 1.0290e-06, 2.2424e-06, 2.3222e-06, 9.7615e-07, 6.3849e-07,\n",
       "         1.0389e-06, 3.4104e-06, 1.4213e-06, 1.1426e-06, 6.0348e-07, 2.5471e-06,\n",
       "         5.5576e-07, 4.0875e-07, 4.9753e-07, 1.3100e-06, 3.6242e-07, 6.9711e-07,\n",
       "         4.0807e-07, 5.6906e-07, 2.2819e-07, 4.4449e-07, 5.0250e-07, 4.3888e-07,\n",
       "         5.9598e-07, 4.4450e-07, 6.0057e-05, 5.9240e-06, 3.0881e-06, 2.8856e-06,\n",
       "         1.6135e-06, 1.3102e-06, 4.9715e-06, 1.2347e-06, 9.8407e-07, 5.3022e-07,\n",
       "         7.2162e-07, 2.9664e-06, 2.0972e-06, 1.9974e-06, 2.1424e-06, 1.6975e-06,\n",
       "         4.1199e-06, 2.0110e-06, 8.1278e-07, 4.2375e-07, 3.4239e-07, 3.7387e-07,\n",
       "         3.5997e-06, 3.4829e-07]], device='cuda:0',\n",
       "       grad_fn=<UnsqueezeBackward0>)"
      ]
     },
     "execution_count": 2,
     "metadata": {},
     "output_type": "execute_result"
    }
   ],
   "source": [
    "outputs[0].sum(dim=0).unsqueeze(0)"
   ]
  },
  {
   "cell_type": "code",
   "execution_count": 3,
   "id": "a172dc71",
   "metadata": {},
   "outputs": [
    {
     "data": {
      "text/plain": [
       "tensor([[2.0602e-05, 7.7820e-06, 1.7247e+00, 2.3876e-05, 1.1636e-05, 6.1807e-04,\n",
       "         5.7153e-05, 1.0312e+00, 8.1349e-05, 6.5970e-05, 2.1995e-06, 1.9053e-05,\n",
       "         9.7847e-01, 3.1735e-05, 8.6988e-07, 5.1343e-07, 1.2946e-06, 7.2711e-06,\n",
       "         3.3631e-06, 1.4810e-05, 1.0711e-05, 3.5918e-06, 3.0762e-06, 7.7639e-07,\n",
       "         1.2731e-05, 8.8409e-05, 7.5949e-06, 6.7203e-07, 1.1000e-05, 8.6329e-07,\n",
       "         1.0507e-06, 1.0290e-06, 2.2424e-06, 2.3222e-06, 9.7615e-07, 6.3849e-07,\n",
       "         1.0389e-06, 3.4104e-06, 1.4213e-06, 1.1426e-06, 6.0348e-07, 2.5471e-06,\n",
       "         5.5576e-07, 4.0875e-07, 4.9753e-07, 1.3100e-06, 3.6242e-07, 6.9711e-07,\n",
       "         4.0807e-07, 5.6906e-07, 2.2819e-07, 4.4449e-07, 5.0250e-07, 4.3888e-07,\n",
       "         5.9598e-07, 4.4450e-07, 6.0057e-05, 5.9240e-06, 3.0881e-06, 2.8856e-06,\n",
       "         1.6135e-06, 1.3102e-06, 4.9715e-06, 1.2347e-06, 9.8407e-07, 5.3022e-07,\n",
       "         7.2162e-07, 2.9664e-06, 2.0972e-06, 1.9974e-06, 2.1424e-06, 1.6975e-06,\n",
       "         4.1199e-06, 2.0110e-06, 8.1278e-07, 4.2375e-07, 3.4239e-07, 3.7387e-07,\n",
       "         3.5997e-06, 3.4829e-07]], device='cuda:0',\n",
       "       grad_fn=<UnsqueezeBackward0>)"
      ]
     },
     "execution_count": 3,
     "metadata": {},
     "output_type": "execute_result"
    }
   ],
   "source": [
    "outputs[1].sum(dim=0).unsqueeze(0)"
   ]
  },
  {
   "cell_type": "code",
   "execution_count": null,
   "id": "8cd5ca92",
   "metadata": {},
   "outputs": [],
   "source": []
  }
 ],
 "metadata": {
  "kernelspec": {
   "display_name": "captum-vas",
   "language": "python",
   "name": "captum-vas"
  },
  "language_info": {
   "codemirror_mode": {
    "name": "ipython",
    "version": 3
   },
   "file_extension": ".py",
   "mimetype": "text/x-python",
   "name": "python",
   "nbconvert_exporter": "python",
   "pygments_lexer": "ipython3",
   "version": "3.8.10"
  }
 },
 "nbformat": 4,
 "nbformat_minor": 5
}
