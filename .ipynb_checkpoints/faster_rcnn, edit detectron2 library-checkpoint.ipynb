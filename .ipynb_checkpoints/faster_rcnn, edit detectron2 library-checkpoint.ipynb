{
 "cells": [
  {
   "cell_type": "markdown",
   "id": "8f7ecb39",
   "metadata": {},
   "source": [
    "## Read sample COCO img"
   ]
  },
  {
   "cell_type": "code",
   "execution_count": 1,
   "id": "91544d2d",
   "metadata": {},
   "outputs": [],
   "source": [
    "import cv2\n",
    "import IPython"
   ]
  },
  {
   "cell_type": "code",
   "execution_count": 2,
   "id": "6bb95c92",
   "metadata": {},
   "outputs": [],
   "source": [
    "# if input image is in range 0..1, please first multiply img by 255\n",
    "# assume image is ndarray of shape [height, width, channels] where channels can be 1, 3 or 4\n",
    "def imshow(img):\n",
    "    _,ret = cv2.imencode('.jpg', img) \n",
    "    i = IPython.display.Image(data=ret)\n",
    "    IPython.display.display(i)"
   ]
  },
  {
   "cell_type": "code",
   "execution_count": 3,
   "id": "9d51c493",
   "metadata": {
    "scrolled": false
   },
   "outputs": [],
   "source": [
    "img = cv2.imread('000000000001.jpg')"
   ]
  },
  {
   "cell_type": "markdown",
   "id": "68b41d7b",
   "metadata": {},
   "source": [
    "## Load same faster rcnn model as in VAS, run prediction on img"
   ]
  },
  {
   "cell_type": "code",
   "execution_count": 4,
   "id": "34ca529f",
   "metadata": {},
   "outputs": [],
   "source": [
    "from detectron2 import model_zoo\n",
    "from detectron2.config import get_cfg\n",
    "from detectron2.modeling import build_model\n",
    "from detectron2.checkpoint import DetectionCheckpointer\n",
    "\n",
    "import torch"
   ]
  },
  {
   "cell_type": "code",
   "execution_count": 5,
   "id": "ae656898",
   "metadata": {},
   "outputs": [],
   "source": [
    "cfg = get_cfg()\n",
    "\n",
    "cfg.merge_from_file(model_zoo.get_config_file(\"COCO-Detection/faster_rcnn_R_50_FPN_3x.yaml\"))\n",
    "\n",
    "cfg.MODEL.ROI_HEADS.SCORE_THRESH_TEST = 0.5\n",
    "\n",
    "cfg.MODEL.WEIGHTS = model_zoo.get_checkpoint_url(\"COCO-Detection/faster_rcnn_R_50_FPN_3x.yaml\")\n",
    "\n",
    "model = build_model(cfg).eval()\n",
    "\n",
    "DetectionCheckpointer(model).load(cfg.MODEL.WEIGHTS)\n",
    "\n",
    "outputs = model(torch.from_numpy(img).permute(2,0,1).unsqueeze(0))"
   ]
  },
  {
   "cell_type": "code",
   "execution_count": 7,
   "id": "aa0cad55",
   "metadata": {},
   "outputs": [
    {
     "data": {
      "text/plain": [
       "((480, 640, 3), torch.Size([3, 480, 640]))"
      ]
     },
     "execution_count": 7,
     "metadata": {},
     "output_type": "execute_result"
    }
   ],
   "source": [
    "img.shape, torch.from_numpy(img).permute(2,0,1).shape"
   ]
  },
  {
   "cell_type": "code",
   "execution_count": 8,
   "id": "ac062673",
   "metadata": {
    "scrolled": true
   },
   "outputs": [
    {
     "data": {
      "text/plain": [
       "tensor(7, device='cuda:0')"
      ]
     },
     "execution_count": 8,
     "metadata": {},
     "output_type": "execute_result"
    }
   ],
   "source": [
    "outputs[0]['instances'][0].pred_classes[0]"
   ]
  },
  {
   "cell_type": "code",
   "execution_count": 9,
   "id": "94376a02",
   "metadata": {
    "scrolled": true
   },
   "outputs": [
    {
     "data": {
      "text/plain": [
       "Instances(num_instances=4, image_height=480, image_width=640, fields=[pred_boxes: Boxes(tensor([[268.8124,  10.1531, 635.7438, 217.2254],\n",
       "        [  0.0000, 127.5443, 461.2285, 313.6560],\n",
       "        [257.9050, 154.3555, 294.1206, 234.5074],\n",
       "        [207.1271, 111.1354, 273.8721, 135.3514]], device='cuda:0',\n",
       "       grad_fn=<IndexBackward>)), scores: tensor([0.9940, 0.9885, 0.9784, 0.7326], device='cuda:0',\n",
       "       grad_fn=<IndexBackward>), class_scores: tensor([[1.6389e-06, 2.7276e-08, 3.5390e-03, 6.9704e-07, 4.8906e-07, 1.0633e-04,\n",
       "         9.6680e-07, 9.9403e-01, 1.6490e-06, 5.4901e-08, 2.9462e-08, 7.4964e-08,\n",
       "         3.9216e-08, 1.3815e-06, 4.1913e-10, 5.6693e-09, 2.3887e-08, 1.6898e-08,\n",
       "         3.2958e-08, 7.4388e-07, 1.5813e-07, 6.7380e-08, 2.0647e-08, 1.8330e-08,\n",
       "         2.4201e-08, 3.6618e-08, 4.4246e-08, 2.7092e-09, 5.1305e-07, 3.4335e-09,\n",
       "         1.3317e-08, 5.3220e-09, 3.3238e-09, 5.4561e-08, 7.0218e-09, 3.6462e-09,\n",
       "         3.3209e-08, 1.2701e-08, 5.2054e-09, 2.1764e-08, 4.4967e-09, 1.0486e-07,\n",
       "         1.6436e-09, 1.2596e-09, 1.5207e-09, 2.5372e-08, 2.7511e-09, 2.9239e-09,\n",
       "         5.7460e-08, 3.1047e-09, 1.2560e-08, 9.7698e-09, 1.1207e-08, 9.4009e-09,\n",
       "         1.4227e-09, 1.5169e-08, 3.2331e-07, 8.1557e-07, 1.1032e-07, 5.7497e-08,\n",
       "         2.7718e-08, 4.6423e-08, 1.7171e-07, 2.9629e-07, 1.9467e-09, 6.6798e-09,\n",
       "         7.5391e-09, 4.0156e-08, 1.3974e-07, 9.8582e-08, 3.8748e-08, 1.0994e-08,\n",
       "         1.8967e-06, 2.7968e-07, 1.0086e-08, 3.3405e-09, 2.7901e-09, 2.0386e-08,\n",
       "         4.9750e-09, 2.7810e-09],\n",
       "        [1.4456e-06, 4.2917e-07, 9.8855e-01, 9.7131e-06, 6.5887e-06, 1.1108e-04,\n",
       "         3.4591e-05, 9.1384e-03, 4.6154e-05, 8.1395e-07, 4.7143e-07, 8.2453e-07,\n",
       "         4.6837e-06, 2.1521e-06, 8.2776e-08, 9.1039e-08, 2.0329e-07, 3.3017e-07,\n",
       "         5.2698e-07, 2.8904e-06, 4.7880e-07, 9.6109e-07, 3.8122e-07, 9.4348e-08,\n",
       "         9.1823e-07, 7.0320e-06, 3.3959e-07, 6.2617e-08, 4.0153e-06, 2.2039e-07,\n",
       "         1.0579e-07, 1.5671e-07, 3.4572e-07, 2.6409e-07, 1.2612e-07, 1.5266e-07,\n",
       "         4.4336e-07, 6.5519e-07, 6.0302e-08, 3.2240e-07, 3.7201e-08, 7.4761e-08,\n",
       "         2.1704e-08, 3.8799e-08, 2.3866e-08, 4.4496e-07, 6.1654e-08, 1.3543e-07,\n",
       "         9.0096e-08, 4.2048e-08, 5.0181e-08, 5.3764e-08, 1.6835e-07, 2.0866e-07,\n",
       "         1.7460e-07, 1.9296e-07, 2.7676e-07, 1.0679e-06, 4.5226e-07, 1.4238e-06,\n",
       "         5.9590e-07, 2.8293e-07, 1.9357e-06, 2.0663e-07, 2.6222e-07, 2.3410e-07,\n",
       "         2.4908e-07, 1.0421e-06, 7.0667e-07, 1.0448e-06, 6.8754e-07, 5.3333e-07,\n",
       "         2.5359e-07, 3.0720e-07, 2.8785e-07, 4.5762e-08, 4.1389e-08, 3.8455e-08,\n",
       "         2.5112e-07, 6.2196e-08],\n",
       "        [2.4906e-08, 7.6992e-09, 1.1195e-06, 2.1959e-08, 7.1239e-10, 5.7993e-09,\n",
       "         1.3857e-08, 2.1155e-09, 7.8266e-11, 6.0134e-05, 4.9616e-07, 1.0093e-05,\n",
       "         9.7845e-01, 2.9581e-09, 5.5815e-08, 3.4888e-09, 7.7377e-10, 3.4435e-10,\n",
       "         1.1913e-10, 6.2368e-10, 6.3442e-10, 4.6985e-09, 6.1271e-10, 1.8081e-10,\n",
       "         5.4750e-08, 9.6508e-08, 4.0946e-08, 2.0218e-08, 4.4252e-08, 2.5299e-09,\n",
       "         4.5220e-09, 7.2858e-08, 1.4191e-08, 4.7161e-10, 1.5549e-08, 7.2948e-09,\n",
       "         2.3154e-08, 3.8026e-09, 3.5784e-09, 2.4695e-08, 1.9103e-08, 6.5489e-09,\n",
       "         3.8003e-09, 1.5284e-07, 1.4916e-07, 6.3622e-10, 1.2660e-09, 1.9135e-08,\n",
       "         1.1631e-10, 1.9358e-10, 2.4767e-09, 2.6333e-10, 8.5790e-10, 2.8463e-10,\n",
       "         1.5522e-09, 8.2629e-11, 4.4888e-09, 1.4930e-10, 4.6634e-08, 3.1365e-11,\n",
       "         7.1899e-10, 1.8044e-08, 9.1601e-09, 9.7286e-11, 6.6988e-09, 9.6547e-08,\n",
       "         4.6505e-10, 4.8000e-07, 8.6550e-10, 1.3180e-08, 5.1458e-09, 3.0664e-09,\n",
       "         2.5854e-08, 4.7314e-10, 6.0967e-08, 2.5104e-08, 3.9525e-08, 4.8584e-09,\n",
       "         2.7185e-06, 2.9530e-09],\n",
       "        [1.7493e-05, 7.3179e-06, 7.3257e-01, 1.3444e-05, 4.5576e-06, 4.0065e-04,\n",
       "         2.1581e-05, 2.8041e-02, 3.3546e-05, 4.9669e-06, 1.2025e-06, 8.0603e-06,\n",
       "         1.9717e-05, 2.8198e-05, 7.3087e-07, 4.1324e-07, 1.0667e-06, 6.9237e-06,\n",
       "         2.8031e-06, 1.1175e-05, 1.0074e-05, 2.5586e-06, 2.6737e-06, 6.6354e-07,\n",
       "         1.1734e-05, 8.1244e-05, 7.1701e-06, 5.8648e-07, 6.4273e-06, 6.3693e-07,\n",
       "         9.2709e-07, 7.9413e-07, 1.8792e-06, 2.0031e-06, 8.2746e-07, 4.7489e-07,\n",
       "         5.3917e-07, 2.7387e-06, 1.3522e-06, 7.7375e-07, 5.4268e-07, 2.3609e-06,\n",
       "         5.2862e-07, 2.1586e-07, 3.2299e-07, 8.3901e-07, 2.9675e-07, 5.3962e-07,\n",
       "         2.6040e-07, 5.2371e-07, 1.6297e-07, 3.8069e-07, 3.2209e-07, 2.2053e-07,\n",
       "         4.1840e-07, 2.3629e-07, 5.9453e-05, 4.0404e-06, 2.4789e-06, 1.4043e-06,\n",
       "         9.8921e-07, 9.6278e-07, 2.8549e-06, 7.3164e-07, 7.1320e-07, 1.9290e-07,\n",
       "         4.6454e-07, 1.4041e-06, 1.2499e-06, 8.4086e-07, 1.4109e-06, 1.1501e-06,\n",
       "         1.9438e-06, 1.4236e-06, 4.5388e-07, 3.4954e-07, 2.5869e-07, 3.1017e-07,\n",
       "         6.2509e-07, 2.8036e-07]], device='cuda:0'), pred_classes: tensor([ 7,  2, 12,  2], device='cuda:0')])"
      ]
     },
     "execution_count": 9,
     "metadata": {},
     "output_type": "execute_result"
    }
   ],
   "source": [
    "outputs[0]['instances']"
   ]
  },
  {
   "cell_type": "code",
   "execution_count": 10,
   "id": "46d58cd6",
   "metadata": {
    "scrolled": true
   },
   "outputs": [
    {
     "data": {
      "text/plain": [
       "array([[268,  10, 635, 217],\n",
       "       [  0, 127, 461, 313],\n",
       "       [257, 154, 294, 234],\n",
       "       [207, 111, 273, 135]], dtype=int32)"
      ]
     },
     "execution_count": 10,
     "metadata": {},
     "output_type": "execute_result"
    }
   ],
   "source": [
    "outputs[0]['instances'].pred_boxes.tensor.cpu().detach().int().numpy()"
   ]
  },
  {
   "cell_type": "code",
   "execution_count": 14,
   "id": "e436fea0",
   "metadata": {},
   "outputs": [
    {
     "data": {
      "text/plain": [
       "array([ 7,  2, 12,  2])"
      ]
     },
     "execution_count": 14,
     "metadata": {},
     "output_type": "execute_result"
    }
   ],
   "source": [
    "outputs[0]['instances'].pred_classes.cpu().numpy()"
   ]
  },
  {
   "cell_type": "code",
   "execution_count": 11,
   "id": "2bd2ec60",
   "metadata": {},
   "outputs": [
    {
     "data": {
      "image/png": "[encoded data removed]",
      "text/plain": [
       "<IPython.core.display.Image object>"
      ]
     },
     "metadata": {},
     "output_type": "display_data"
    }
   ],
   "source": [
    "import numpy as np\n",
    "\n",
    "clone = img.copy()\n",
    "\n",
    "for box in outputs[0]['instances'].pred_boxes.tensor.cpu().detach().int().numpy():\n",
    "    x0, y0, x1, y1 = box\n",
    "    clone[y0:y1, x0] = np.full((y1-y0, 3), 255)\n",
    "    clone[y0:y1, x1] = np.full((y1-y0, 3), 255)\n",
    "    clone[y0, x0:x1] = np.full((x1-x0, 3), 255)\n",
    "    clone[y1, x0:x1] = np.full((x1-x0, 3), 255)\n",
    "\n",
    "imshow(clone)"
   ]
  },
  {
   "cell_type": "markdown",
   "id": "59db149a",
   "metadata": {},
   "source": [
    "### Visualise output"
   ]
  },
  {
   "cell_type": "code",
   "execution_count": null,
   "id": "a9ca546a",
   "metadata": {
    "scrolled": false
   },
   "outputs": [],
   "source": [
    "from detectron2.utils.visualizer import Visualizer\n",
    "from detectron2.data import MetadataCatalog\n",
    "\n",
    "v = Visualizer(img[:, :, ::-1], MetadataCatalog.get(cfg.DATASETS.TRAIN[0]), scale=1.2)\n",
    "out = v.draw_instance_predictions(outputs[0][\"instances\"].to(\"cpu\"))\n",
    "imshow(out.get_image()[:, :, ::-1])"
   ]
  },
  {
   "cell_type": "markdown",
   "id": "0230f4f3",
   "metadata": {},
   "source": [
    "## Partially executing faster rcnn"
   ]
  },
  {
   "cell_type": "markdown",
   "id": "220150e1",
   "metadata": {},
   "source": [
    "### Feature extraction"
   ]
  },
  {
   "cell_type": "code",
   "execution_count": null,
   "id": "7216cf27",
   "metadata": {
    "scrolled": false
   },
   "outputs": [],
   "source": [
    "input_img = torch.from_numpy(img).permute(2,0,1).unsqueeze(0).float().to(\"cuda\")\n",
    "\n",
    "images = model.preprocess_image(input_img)\n",
    "\n",
    "# features\n",
    "features = model.backbone(images.tensor)"
   ]
  },
  {
   "cell_type": "code",
   "execution_count": null,
   "id": "0494d640",
   "metadata": {
    "scrolled": false
   },
   "outputs": [],
   "source": [
    "features.keys()"
   ]
  },
  {
   "cell_type": "code",
   "execution_count": null,
   "id": "0a764262",
   "metadata": {},
   "outputs": [],
   "source": [
    "features['p2'].shape, features['p6'].shape"
   ]
  },
  {
   "cell_type": "markdown",
   "id": "729cfb68",
   "metadata": {},
   "source": [
    "#### Global Average Pool feature maps"
   ]
  },
  {
   "cell_type": "code",
   "execution_count": null,
   "id": "2e77fac5",
   "metadata": {},
   "outputs": [],
   "source": [
    "m = torch.nn.AvgPool3d(features['p2'].shape[1:])\n",
    "print(m(features['p2'])[0, 0, 0, 0])\n",
    "m = torch.nn.AvgPool3d(features['p6'].shape[1:])\n",
    "print(m(features['p6'])[0, 0, 0, 0])"
   ]
  },
  {
   "cell_type": "markdown",
   "id": "8136223a",
   "metadata": {},
   "source": [
    "### Features to RPN proposals"
   ]
  },
  {
   "cell_type": "code",
   "execution_count": null,
   "id": "cc56c100",
   "metadata": {},
   "outputs": [],
   "source": [
    "pred_objectness_logits, pred_anchor_deltas = model.proposal_generator.rpn_head([features[f] for f in cfg.MODEL.RPN.IN_FEATURES])"
   ]
  },
  {
   "cell_type": "code",
   "execution_count": null,
   "id": "2ba45950",
   "metadata": {
    "scrolled": true
   },
   "outputs": [],
   "source": [
    "pred_objectness_logits[0].shape, pred_objectness_logits[4].shape"
   ]
  },
  {
   "cell_type": "code",
   "execution_count": null,
   "id": "531865b5",
   "metadata": {},
   "outputs": [],
   "source": [
    "import math\n",
    "\n",
    "def sigmoid(x):\n",
    "    return 1 / (1 + math.exp(-x))"
   ]
  },
  {
   "cell_type": "code",
   "execution_count": null,
   "id": "22c3d952",
   "metadata": {
    "scrolled": false
   },
   "outputs": [],
   "source": [
    "import matplotlib.pyplot as plt\n",
    "\n",
    "fig = plt.figure(figsize=(2, 3))\n",
    "\n",
    "for i in range(len(pred_objectness_logits)):\n",
    "    heatmap = (pred_objectness_logits[i]\n",
    "               .permute(0, 2, 3, 1)\n",
    "               .cpu().detach()\n",
    "               .apply_(sigmoid)[0,:,:,1])\n",
    "                # 3 types of boxes, 1 is square, or 1:1 boxes\n",
    "    fig.add_subplot(2, 3, i+1)\n",
    "    plt.imshow(img)\n",
    "    scale = int(img.shape[0]/heatmap.shape[0])\n",
    "    plt.imshow(np.kron(heatmap, np.ones((scale, scale))), cmap=plt.get_cmap('jet'), alpha=0.4)\n",
    "    \n",
    "fig.set_size_inches(18, 10)"
   ]
  },
  {
   "cell_type": "markdown",
   "id": "47dc3fa5",
   "metadata": {},
   "source": [
    "### Proposal Generator"
   ]
  },
  {
   "cell_type": "code",
   "execution_count": null,
   "id": "d793d5ff",
   "metadata": {},
   "outputs": [],
   "source": [
    "# proposals\n",
    "proposals, losses = model.proposal_generator(images, features)"
   ]
  },
  {
   "cell_type": "code",
   "execution_count": null,
   "id": "238af2c6",
   "metadata": {},
   "outputs": [],
   "source": [
    "model.proposal_generator"
   ]
  },
  {
   "cell_type": "code",
   "execution_count": null,
   "id": "13555130",
   "metadata": {
    "scrolled": true
   },
   "outputs": [],
   "source": [
    "proposals[0] # proposal_boxes, objectness_logits"
   ]
  },
  {
   "cell_type": "code",
   "execution_count": null,
   "id": "f0a5eef3",
   "metadata": {},
   "outputs": [],
   "source": [
    "import math\n",
    "\n",
    "def sigmoid(x):\n",
    "    return 1 / (1 + math.exp(-x))\n",
    "\n",
    "objectness_scores = proposals[0].objectness_logits.cpu().apply_(sigmoid)"
   ]
  },
  {
   "cell_type": "code",
   "execution_count": null,
   "id": "545fce8c",
   "metadata": {},
   "outputs": [],
   "source": [
    "import numpy as np\n",
    "import matplotlib.pyplot as plt\n",
    "\n",
    "clone = np.zeros(img.shape[:2])\n",
    "boxes = proposals[0].proposal_boxes.tensor.cpu().detach().int().numpy()\n",
    "\n",
    "for i in range(len(boxes)):\n",
    "    box = boxes[i]\n",
    "    x0, y0, x1, y1 = box\n",
    "    if x1 == 640:\n",
    "        x1 -= 1\n",
    "    if y1 == 480:\n",
    "        y1 -= 1\n",
    "    clone[y0:y1, x0:x1] += np.full((y1-y0, x1-x0), objectness_scores[i])\n",
    "    \n",
    "plt.imshow(img)\n",
    "plt.imshow(clone, cmap=plt.get_cmap('jet'), alpha=0.5)"
   ]
  },
  {
   "cell_type": "markdown",
   "id": "6349753b",
   "metadata": {},
   "source": [
    "### ROI"
   ]
  },
  {
   "cell_type": "code",
   "execution_count": null,
   "id": "ef839ff3",
   "metadata": {
    "scrolled": false
   },
   "outputs": [],
   "source": [
    "type(model.roi_heads)"
   ]
  },
  {
   "cell_type": "code",
   "execution_count": null,
   "id": "4ad327ee",
   "metadata": {},
   "outputs": [],
   "source": [
    "features_list = [features[f] for f in model.roi_heads.box_in_features]\n",
    "model.roi_heads.box_in_features, features.keys() # note the missing 'p6' from features.keys()"
   ]
  },
  {
   "cell_type": "code",
   "execution_count": null,
   "id": "b692cd9e",
   "metadata": {},
   "outputs": [],
   "source": [
    "box_features = model.roi_heads.box_pooler(features_list, [x.proposal_boxes for x in proposals])\n",
    "box_features.shape"
   ]
  },
  {
   "cell_type": "markdown",
   "id": "57ae3c1e",
   "metadata": {},
   "source": [
    "#### Some examples of cropped ROI"
   ]
  },
  {
   "cell_type": "code",
   "execution_count": null,
   "id": "6afd2b54",
   "metadata": {
    "scrolled": true
   },
   "outputs": [],
   "source": [
    "import matplotlib.pyplot as plt\n",
    "\n",
    "fig = plt.figure(figsize=(1, 5))\n",
    "\n",
    "for i in range(5):\n",
    "    cropped_roi = torch.sum(box_features[0].cpu().detach(), dim=0)\n",
    "    fig.add_subplot(1, 5, i+1)\n",
    "    plt.imshow(cropped_roi)\n",
    "    \n",
    "fig.set_size_inches(10, 5)"
   ]
  },
  {
   "cell_type": "markdown",
   "id": "88c137f2",
   "metadata": {},
   "source": [
    "#### Flatten cropped ROI"
   ]
  },
  {
   "cell_type": "code",
   "execution_count": null,
   "id": "93a1b7ff",
   "metadata": {},
   "outputs": [],
   "source": [
    "model.roi_heads.box_head"
   ]
  },
  {
   "cell_type": "code",
   "execution_count": null,
   "id": "dec1bf4a",
   "metadata": {},
   "outputs": [],
   "source": [
    "box_features2 = model.roi_heads.box_head(box_features)\n",
    "box_features2, box_features2.shape"
   ]
  },
  {
   "cell_type": "markdown",
   "id": "2ff82723",
   "metadata": {},
   "source": [
    "#### Convert flattened and linear layers to class scores and proposal deltas"
   ]
  },
  {
   "cell_type": "code",
   "execution_count": null,
   "id": "586ba353",
   "metadata": {},
   "outputs": [],
   "source": [
    "model.roi_heads.box_predictor.cls_score.in_features"
   ]
  },
  {
   "cell_type": "code",
   "execution_count": null,
   "id": "807aea0d",
   "metadata": {},
   "outputs": [],
   "source": [
    "scores, proposal_deltas = predictions = model.roi_heads.box_predictor(box_features2)\n",
    "scores.shape, proposal_deltas.shape"
   ]
  },
  {
   "cell_type": "code",
   "execution_count": null,
   "id": "0810164a",
   "metadata": {
    "scrolled": true
   },
   "outputs": [],
   "source": [
    "pred_instances, _ = model.roi_heads.box_predictor.inference(predictions, proposals)\n",
    "pred_instances"
   ]
  },
  {
   "cell_type": "markdown",
   "id": "6786c8f4",
   "metadata": {},
   "source": [
    "#### Break down model.roi_heads.box_predictor.inference"
   ]
  },
  {
   "cell_type": "code",
   "execution_count": null,
   "id": "ad4fe588",
   "metadata": {},
   "outputs": [],
   "source": [
    "'''\n",
    "list[Tensor]:\n",
    "A list of Tensors of predicted class-specific or class-agnostic boxes\n",
    "for each image. Element i has shape (Ri, K * B) or (Ri, B), where Ri is\n",
    "the number of proposals for image i and B is the box dimension (4 or 5)\n",
    "'''\n",
    "# basically converts proposal_deltas to actual bounding boxes\n",
    "boxes = model.roi_heads.box_predictor.predict_boxes(predictions, proposals)\n",
    "boxes[0].shape # per ROI, we have 80 class-specific bounding boxes"
   ]
  },
  {
   "cell_type": "code",
   "execution_count": null,
   "id": "be7c98b7",
   "metadata": {},
   "outputs": [],
   "source": [
    "'''\n",
    "list[Tensor]:\n",
    "A list of Tensors of predicted class probabilities for each image.\n",
    "Element i has shape (Ri, K + 1), where Ri is the number of proposals for image i.\n",
    "'''\n",
    "# basically F.softmax(scores, dim=-1) for all\n",
    "scores = model.roi_heads.box_predictor.predict_probs(predictions, proposals)\n",
    "scores[0].shape"
   ]
  },
  {
   "cell_type": "code",
   "execution_count": null,
   "id": "6fb20ed0",
   "metadata": {},
   "outputs": [],
   "source": [
    "# len(proposals) = len(image_shapes) = 1\n",
    "image_shapes = [x.image_size for x in proposals]\n",
    "image_shapes"
   ]
  },
  {
   "cell_type": "code",
   "execution_count": null,
   "id": "321101b2",
   "metadata": {},
   "outputs": [],
   "source": [
    "from typing import Dict, List, Tuple, Union\n",
    "\n",
    "def fast_rcnn_inference(\n",
    "    boxes: List[torch.Tensor],\n",
    "    scores: List[torch.Tensor],\n",
    "    image_shapes: List[Tuple[int, int]],\n",
    "    score_thresh: float, # set by config, is 0.5 rn\n",
    "    nms_thresh: float, # 0.5 by default\n",
    "    topk_per_image: int, # 100 by default, but usually won't have that many detected objects in an image\n",
    "):\n",
    "    \n",
    "    # result_per_image : list[(Instances, Tensor)]\n",
    "    result_per_image = [\n",
    "        fast_rcnn_inference_single_image(\n",
    "            boxes_per_image, scores_per_image, image_shape, score_thresh, nms_thresh, topk_per_image\n",
    "        )\n",
    "        for scores_per_image, boxes_per_image, image_shape in zip(scores, boxes, image_shapes)\n",
    "    ]\n",
    "    \n",
    "    # list[Instances], list[Tensor]\n",
    "    return [x[0] for x in result_per_image], [x[1] for x in result_per_image]"
   ]
  },
  {
   "cell_type": "markdown",
   "id": "2979ff0c",
   "metadata": {},
   "source": [
    "# TODO\n",
    "\n",
    "Edit fast_rcnn_inference_single_image on jpnote to return array of instances with associated class probabilities DONE\n",
    "\n",
    "Copy changes to subclass of detectron2.modeling.roi_heads.fast_rcnn.fast_rcnn_inference"
   ]
  },
  {
   "cell_type": "markdown",
   "id": "2be82ede",
   "metadata": {},
   "source": [
    "### Think...\n",
    "\n",
    "Should I subclass ModifiedGeneralizedRCNN some more to redifine fast_rcnn_inference_single_image?"
   ]
  },
  {
   "cell_type": "code",
   "execution_count": null,
   "id": "91217f17",
   "metadata": {},
   "outputs": [],
   "source": [
    "from detectron2.structures import Boxes, Instances\n",
    "from detectron2.layers import batched_nms\n",
    "\n",
    "def fast_rcnn_inference_single_image(\n",
    "    boxes,\n",
    "    scores,\n",
    "    image_shape: Tuple[int, int],\n",
    "    score_thresh: float,\n",
    "    nms_thresh: float,\n",
    "    topk_per_image: int,\n",
    "):\n",
    "    \"\"\"\n",
    "    Single-image inference. Return bounding-box detection results by thresholding\n",
    "    on scores and applying non-maximum suppression (NMS).\n",
    "    \"\"\"\n",
    "    \n",
    "    # sanity check that all values are finite, i.e. they are not NaN, negative infinity, or infinity\n",
    "    valid_mask = torch.isfinite(boxes).all(dim=1) & torch.isfinite(scores).all(dim=1)\n",
    "    if not valid_mask.all():\n",
    "        boxes = boxes[valid_mask]\n",
    "        scores = scores[valid_mask]\n",
    "\n",
    "    scores = scores[:, :-1] # drop last class as that is background (class 80)\n",
    "    raw_scores = scores.detach().clone()    \n",
    "    \n",
    "    # total number of classes (80)\n",
    "    num_bbox_reg_classes = boxes.shape[1] // 4\n",
    "    \n",
    "    # Convert to Boxes to use the `clip` function\n",
    "    '''\n",
    "    .reshape(-1, 4) to flatten out the 80 class-specific bounding boxes per ROI \n",
    "        into 80*NUM_ROI w NUM_ROI=1000 boxes\n",
    "    '''\n",
    "    boxes = Boxes(boxes.reshape(-1, 4)) \n",
    "    '''\n",
    "    Clip (in place) the boxes by limiting x coordinates to the range [0, width]\n",
    "        and y coordinates to the range [0, height].\n",
    "    '''\n",
    "    boxes.clip(image_shape)\n",
    "    '''\n",
    "    .view(-1, num_bbox_reg_classes, 4) to convert back to NUM_ROI * 80 * 4\n",
    "    Somehow the order doesn't get mixed up lol works as expected :O\n",
    "    '''\n",
    "    boxes = boxes.tensor.view(-1, num_bbox_reg_classes, 4)\n",
    "\n",
    "    # 1. Filter results based on detection scores. It can make NMS more efficient\n",
    "    #    by filtering out low-confidence detections.\n",
    "    filter_mask = scores > score_thresh  # R x K w R = 1000, K = 80\n",
    "    \n",
    "    # R' x 2. First column contains indices of the R predictions;\n",
    "    # Second column contains indices of classes.\n",
    "    # R' <= R\n",
    "    filter_inds = filter_mask.nonzero()\n",
    "    \n",
    "    if num_bbox_reg_classes == 1:\n",
    "        boxes = boxes[filter_inds[:, 0], 0]\n",
    "    else:\n",
    "        boxes = boxes[filter_mask] # [R', 4]\n",
    "        \n",
    "    scores = scores[filter_mask] # [R']\n",
    "    raw_scores = raw_scores[filter_inds[:,0]] # [R', K] w K = 80\n",
    "    print(raw_scores.shape)\n",
    "\n",
    "    # 2. Apply NMS for each class independently.\n",
    "    keep = batched_nms(boxes, scores, filter_inds[:, 1], nms_thresh)\n",
    "    \n",
    "    if topk_per_image >= 0:\n",
    "        keep = keep[:topk_per_image]\n",
    "        # int64 tensor with the indices of the elements that \n",
    "        # have been kept by NMS, sorted in decreasing order of scores\n",
    "        \n",
    "    boxes, scores, filter_inds, raw_scores = boxes[keep], scores[keep], filter_inds[keep], raw_scores[keep]\n",
    "    print(raw_scores.shape)\n",
    "\n",
    "    # convert results into Instances\n",
    "    result = Instances(image_shape)\n",
    "    result.pred_boxes = Boxes(boxes)\n",
    "    result.scores = scores\n",
    "    result.pred_classes = filter_inds[:, 1]\n",
    "    result.raw_scores = raw_scores\n",
    "    \n",
    "    # Instances, Tensor\n",
    "    return result, filter_inds[:, 0]"
   ]
  },
  {
   "cell_type": "code",
   "execution_count": null,
   "id": "9e8623a0",
   "metadata": {
    "scrolled": true
   },
   "outputs": [],
   "source": [
    "fast_rcnn_inference(\n",
    "            boxes,\n",
    "            scores,\n",
    "            image_shapes,\n",
    "            score_thresh=0.5,\n",
    "            nms_thresh=0.5,\n",
    "            topk_per_image=10,\n",
    "        )"
   ]
  },
  {
   "cell_type": "markdown",
   "id": "0fd41f32",
   "metadata": {},
   "source": [
    "Only step left is post processing, which does not change any of the values but just presents the data in a different manner."
   ]
  },
  {
   "cell_type": "markdown",
   "id": "f234ba2a",
   "metadata": {},
   "source": [
    "### Compare"
   ]
  },
  {
   "cell_type": "code",
   "execution_count": null,
   "id": "073c3ddc",
   "metadata": {},
   "outputs": [],
   "source": [
    "model._postprocess(pred_instances, input_img, images.image_sizes)"
   ]
  },
  {
   "cell_type": "code",
   "execution_count": null,
   "id": "21defd64",
   "metadata": {},
   "outputs": [],
   "source": [
    "outputs"
   ]
  },
  {
   "cell_type": "code",
   "execution_count": null,
   "id": "5746b314",
   "metadata": {},
   "outputs": [],
   "source": []
  },
  {
   "cell_type": "code",
   "execution_count": null,
   "id": "099a37c9",
   "metadata": {},
   "outputs": [],
   "source": []
  },
  {
   "cell_type": "code",
   "execution_count": null,
   "id": "81cff6db",
   "metadata": {},
   "outputs": [],
   "source": []
  },
  {
   "cell_type": "code",
   "execution_count": null,
   "id": "3f861226",
   "metadata": {},
   "outputs": [],
   "source": []
  },
  {
   "cell_type": "code",
   "execution_count": null,
   "id": "f4bd0dc6",
   "metadata": {},
   "outputs": [],
   "source": []
  },
  {
   "cell_type": "markdown",
   "id": "2bc63343",
   "metadata": {},
   "source": [
    "## Captum"
   ]
  },
  {
   "cell_type": "code",
   "execution_count": null,
   "id": "300ad6eb",
   "metadata": {},
   "outputs": [],
   "source": [
    "import numpy as np\n",
    "\n",
    "import torch\n",
    "import torch.nn as nn\n",
    "import torch.nn.functional as F\n",
    "\n",
    "from captum.attr import (\n",
    "    GradientShap,\n",
    "    DeepLift,\n",
    "    DeepLiftShap,\n",
    "    IntegratedGradients,\n",
    "    LayerConductance,\n",
    "    NeuronConductance,\n",
    "    NoiseTunnel,\n",
    ")"
   ]
  },
  {
   "cell_type": "markdown",
   "id": "9b0ad802",
   "metadata": {},
   "source": [
    "## Run on model"
   ]
  },
  {
   "cell_type": "code",
   "execution_count": null,
   "id": "8791f99f",
   "metadata": {
    "scrolled": true
   },
   "outputs": [],
   "source": [
    "input_   = torch.from_numpy(img).permute(2,0,1).unsqueeze(0)\n",
    "baseline = torch.zeros(input_.shape)\n",
    "baseline.shape"
   ]
  },
  {
   "cell_type": "markdown",
   "id": "f38ed2c0",
   "metadata": {},
   "source": [
    "### Need input_/baseline to be tensor, model needs to take in individual tensor"
   ]
  },
  {
   "cell_type": "code",
   "execution_count": null,
   "id": "372b2725",
   "metadata": {},
   "outputs": [],
   "source": [
    "def wrap(input_tensor):\n",
    "    print(input_tensor.shape)\n",
    "    outputs = model(input_tensor)\n",
    "    print(outputs)\n",
    "    return outputs[0]['instances'][selected_pred].pred_classes[0]"
   ]
  },
  {
   "cell_type": "code",
   "execution_count": null,
   "id": "0e836243",
   "metadata": {
    "scrolled": true
   },
   "outputs": [],
   "source": [
    "ig = IntegratedGradients(wrap)\n",
    "attributions, delta = ig.attribute(input_, baseline, target=0, return_convergence_delta=True)\n",
    "print('IG Attributions:', attributions)\n",
    "print('Convergence Delta:', delta)"
   ]
  },
  {
   "cell_type": "code",
   "execution_count": null,
   "id": "5bcb589e",
   "metadata": {},
   "outputs": [],
   "source": []
  },
  {
   "cell_type": "code",
   "execution_count": null,
   "id": "ac60718c",
   "metadata": {},
   "outputs": [],
   "source": []
  },
  {
   "cell_type": "code",
   "execution_count": null,
   "id": "cd3dd778",
   "metadata": {},
   "outputs": [],
   "source": []
  },
  {
   "cell_type": "code",
   "execution_count": null,
   "id": "ca94721f",
   "metadata": {},
   "outputs": [],
   "source": []
  },
  {
   "cell_type": "code",
   "execution_count": null,
   "id": "9826cbe6",
   "metadata": {},
   "outputs": [],
   "source": []
  },
  {
   "cell_type": "code",
   "execution_count": null,
   "id": "68abc710",
   "metadata": {},
   "outputs": [],
   "source": [
    "gs = GradientShap(model)\n",
    "\n",
    "# We define a distribution of baselines and draw `n_samples` from that\n",
    "# distribution in order to estimate the expectations of gradients across all baselines\n",
    "baseline_dist = torch.randn(5, 3, 480, 640) * 0.001\n",
    "attributions, delta = gs.attribute(input_, stdevs=0.09, n_samples=4, baselines=baseline_dist,\n",
    "                                   target=0, return_convergence_delta=True)\n",
    "print('GradientShap Attributions:', attributions)\n",
    "print('Convergence Delta:', delta)\n",
    "print('Average delta per example:', torch.mean(delta.reshape(input.shape[0], -1), dim=1))"
   ]
  },
  {
   "cell_type": "code",
   "execution_count": null,
   "id": "eeab3eb7",
   "metadata": {},
   "outputs": [],
   "source": [
    "dl = DeepLift(model)\n",
    "attributions, delta = dl.attribute(input_, baseline, target=0, return_convergence_delta=True)\n",
    "print('DeepLift Attributions:', attributions)\n",
    "print('Convergence Delta:', delta)"
   ]
  },
  {
   "cell_type": "code",
   "execution_count": null,
   "id": "861aadd3",
   "metadata": {
    "scrolled": true
   },
   "outputs": [],
   "source": [
    "dl = DeepLiftShap(model)\n",
    "attributions, delta = dl.attribute(input_.float(), baseline_dist, target=0, return_convergence_delta=True)\n",
    "print('DeepLiftSHAP Attributions:', attributions)\n",
    "print('Convergence Delta:', delta)\n",
    "print('Average delta per example:', torch.mean(delta.reshape(input.shape[0], -1), dim=1))"
   ]
  },
  {
   "cell_type": "code",
   "execution_count": null,
   "id": "0c1f5c85",
   "metadata": {},
   "outputs": [],
   "source": [
    "ig = IntegratedGradients(model)\n",
    "nt = NoiseTunnel(ig)\n",
    "attributions, delta = nt.attribute(input_, nt_type='smoothgrad', stdevs=0.02, nt_samples=4,\n",
    "      baselines=baseline, target=0, return_convergence_delta=True)\n",
    "print('IG + SmoothGrad Attributions:', attributions)\n",
    "print('Convergence Delta:', delta)\n",
    "print('Average delta per example', torch.mean(delta.reshape(input.shape[0], -1), dim=1))"
   ]
  },
  {
   "cell_type": "code",
   "execution_count": null,
   "id": "2be5814a",
   "metadata": {},
   "outputs": [],
   "source": [
    "model"
   ]
  },
  {
   "cell_type": "code",
   "execution_count": null,
   "id": "da398095",
   "metadata": {},
   "outputs": [],
   "source": [
    "nc = NeuronConductance(model, model.backbone)\n",
    "attributions = nc.attribute(input_, neuron_selector=1, target=0)\n",
    "print('Neuron Attributions:', attributions)"
   ]
  },
  {
   "cell_type": "code",
   "execution_count": null,
   "id": "99b5ed71",
   "metadata": {},
   "outputs": [],
   "source": [
    "lc = LayerConductance(model, model.backbone)\n",
    "attributions, delta = lc.attribute(input_, baselines=baseline, target=0, return_convergence_delta=True)\n",
    "print('Layer Attributions:', attributions)\n",
    "print('Convergence Delta:', delta)"
   ]
  },
  {
   "cell_type": "code",
   "execution_count": null,
   "id": "796591ea",
   "metadata": {},
   "outputs": [],
   "source": []
  },
  {
   "cell_type": "code",
   "execution_count": null,
   "id": "74a23634",
   "metadata": {},
   "outputs": [],
   "source": []
  },
  {
   "cell_type": "code",
   "execution_count": null,
   "id": "68f178d9",
   "metadata": {},
   "outputs": [],
   "source": []
  },
  {
   "cell_type": "code",
   "execution_count": null,
   "id": "a4804a13",
   "metadata": {},
   "outputs": [],
   "source": []
  },
  {
   "cell_type": "code",
   "execution_count": null,
   "id": "3f0d6242",
   "metadata": {},
   "outputs": [],
   "source": []
  },
  {
   "cell_type": "markdown",
   "id": "1285490b",
   "metadata": {},
   "source": [
    "# Toy Model"
   ]
  },
  {
   "cell_type": "code",
   "execution_count": null,
   "id": "783eece4",
   "metadata": {},
   "outputs": [],
   "source": [
    "class ToyModel(nn.Module):\n",
    "    def __init__(self):\n",
    "        super().__init__()\n",
    "        self.lin1 = nn.Linear(3, 3)\n",
    "        self.relu = nn.ReLU()\n",
    "        self.lin2 = nn.Linear(3, 2)\n",
    "\n",
    "        # initialize weights and biases\n",
    "        self.lin1.weight = nn.Parameter(torch.arange(-4.0, 5.0).view(3, 3))\n",
    "        self.lin1.bias = nn.Parameter(torch.zeros(1,3))\n",
    "        self.lin2.weight = nn.Parameter(torch.arange(-3.0, 3.0).view(2, 3))\n",
    "        self.lin2.bias = nn.Parameter(torch.ones(1,2))\n",
    "\n",
    "    def forward(self, input):\n",
    "        return self.lin2(self.relu(self.lin1(input)))"
   ]
  },
  {
   "cell_type": "code",
   "execution_count": null,
   "id": "7abcb411",
   "metadata": {},
   "outputs": [],
   "source": [
    "model = ToyModel()\n",
    "model.eval()"
   ]
  },
  {
   "cell_type": "code",
   "execution_count": null,
   "id": "65ed40cb",
   "metadata": {},
   "outputs": [],
   "source": [
    "toy_input = torch.rand(2, 3)\n",
    "model(toy_input)"
   ]
  },
  {
   "cell_type": "code",
   "execution_count": null,
   "id": "15c19dfc",
   "metadata": {},
   "outputs": [],
   "source": []
  },
  {
   "cell_type": "code",
   "execution_count": null,
   "id": "937c7d3f",
   "metadata": {},
   "outputs": [],
   "source": []
  },
  {
   "cell_type": "code",
   "execution_count": null,
   "id": "cf326394",
   "metadata": {},
   "outputs": [],
   "source": []
  }
 ],
 "metadata": {
  "kernelspec": {
   "display_name": "captum-vas",
   "language": "python",
   "name": "captum-vas"
  },
  "language_info": {
   "codemirror_mode": {
    "name": "ipython",
    "version": 3
   },
   "file_extension": ".py",
   "mimetype": "text/x-python",
   "name": "python",
   "nbconvert_exporter": "python",
   "pygments_lexer": "ipython3",
   "version": "3.8.10"
  }
 },
 "nbformat": 4,
 "nbformat_minor": 5
}
